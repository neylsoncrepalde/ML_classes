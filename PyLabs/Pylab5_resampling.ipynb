{
 "cells": [
  {
   "cell_type": "markdown",
   "metadata": {},
   "source": [
    "# Machine Learning\n",
    "\n",
    "## Data Science Degree\n",
    "\n",
    "### Resampling\n",
    "\n",
    "Hoje vamos estudar técnicas de resampling começando com **cross-validation**. Vamos ajustar uma regressão de `horsepower` predizendo `mpg` no banco de dados Auto."
   ]
  },
  {
   "cell_type": "code",
   "execution_count": 1,
   "metadata": {},
   "outputs": [],
   "source": [
    "import pandas as pd\n",
    "import numpy as np\n",
    "import matplotlib.pyplot as plt\n",
    "%matplotlib inline\n",
    "\n",
    "from sklearn.model_selection import LeaveOneOut, KFold, train_test_split\n",
    "from sklearn.utils import resample\n",
    "\n",
    "from sklearn.preprocessing import PolynomialFeatures\n",
    "\n",
    "from sklearn.linear_model import LinearRegression, LogisticRegression\n",
    "from sklearn.metrics import mean_squared_error, roc_auc_score"
   ]
  },
  {
   "cell_type": "code",
   "execution_count": 2,
   "metadata": {},
   "outputs": [
    {
     "data": {
      "text/html": [
       "<div>\n",
       "<style scoped>\n",
       "    .dataframe tbody tr th:only-of-type {\n",
       "        vertical-align: middle;\n",
       "    }\n",
       "\n",
       "    .dataframe tbody tr th {\n",
       "        vertical-align: top;\n",
       "    }\n",
       "\n",
       "    .dataframe thead th {\n",
       "        text-align: right;\n",
       "    }\n",
       "</style>\n",
       "<table border=\"1\" class=\"dataframe\">\n",
       "  <thead>\n",
       "    <tr style=\"text-align: right;\">\n",
       "      <th></th>\n",
       "      <th>mpg</th>\n",
       "      <th>cylinders</th>\n",
       "      <th>displacement</th>\n",
       "      <th>horsepower</th>\n",
       "      <th>weight</th>\n",
       "      <th>acceleration</th>\n",
       "      <th>year</th>\n",
       "      <th>origin</th>\n",
       "      <th>name</th>\n",
       "    </tr>\n",
       "  </thead>\n",
       "  <tbody>\n",
       "    <tr>\n",
       "      <th>0</th>\n",
       "      <td>18.0</td>\n",
       "      <td>8</td>\n",
       "      <td>307.0</td>\n",
       "      <td>130</td>\n",
       "      <td>3504</td>\n",
       "      <td>12.0</td>\n",
       "      <td>70</td>\n",
       "      <td>1</td>\n",
       "      <td>chevrolet chevelle malibu</td>\n",
       "    </tr>\n",
       "    <tr>\n",
       "      <th>1</th>\n",
       "      <td>15.0</td>\n",
       "      <td>8</td>\n",
       "      <td>350.0</td>\n",
       "      <td>165</td>\n",
       "      <td>3693</td>\n",
       "      <td>11.5</td>\n",
       "      <td>70</td>\n",
       "      <td>1</td>\n",
       "      <td>buick skylark 320</td>\n",
       "    </tr>\n",
       "    <tr>\n",
       "      <th>2</th>\n",
       "      <td>18.0</td>\n",
       "      <td>8</td>\n",
       "      <td>318.0</td>\n",
       "      <td>150</td>\n",
       "      <td>3436</td>\n",
       "      <td>11.0</td>\n",
       "      <td>70</td>\n",
       "      <td>1</td>\n",
       "      <td>plymouth satellite</td>\n",
       "    </tr>\n",
       "    <tr>\n",
       "      <th>3</th>\n",
       "      <td>16.0</td>\n",
       "      <td>8</td>\n",
       "      <td>304.0</td>\n",
       "      <td>150</td>\n",
       "      <td>3433</td>\n",
       "      <td>12.0</td>\n",
       "      <td>70</td>\n",
       "      <td>1</td>\n",
       "      <td>amc rebel sst</td>\n",
       "    </tr>\n",
       "    <tr>\n",
       "      <th>4</th>\n",
       "      <td>17.0</td>\n",
       "      <td>8</td>\n",
       "      <td>302.0</td>\n",
       "      <td>140</td>\n",
       "      <td>3449</td>\n",
       "      <td>10.5</td>\n",
       "      <td>70</td>\n",
       "      <td>1</td>\n",
       "      <td>ford torino</td>\n",
       "    </tr>\n",
       "  </tbody>\n",
       "</table>\n",
       "</div>"
      ],
      "text/plain": [
       "    mpg  cylinders  displacement horsepower  weight  acceleration  year  \\\n",
       "0  18.0          8         307.0        130    3504          12.0    70   \n",
       "1  15.0          8         350.0        165    3693          11.5    70   \n",
       "2  18.0          8         318.0        150    3436          11.0    70   \n",
       "3  16.0          8         304.0        150    3433          12.0    70   \n",
       "4  17.0          8         302.0        140    3449          10.5    70   \n",
       "\n",
       "   origin                       name  \n",
       "0       1  chevrolet chevelle malibu  \n",
       "1       1          buick skylark 320  \n",
       "2       1         plymouth satellite  \n",
       "3       1              amc rebel sst  \n",
       "4       1                ford torino  "
      ]
     },
     "execution_count": 2,
     "metadata": {},
     "output_type": "execute_result"
    }
   ],
   "source": [
    "# Lendo o banco de dados direto da internet\n",
    "bd = pd.read_csv(\"http://www-bcf.usc.edu/~gareth/ISL/Auto.csv\")\n",
    "bd.head()"
   ]
  },
  {
   "cell_type": "code",
   "execution_count": 3,
   "metadata": {},
   "outputs": [
    {
     "data": {
      "text/plain": [
       "(397, 9)"
      ]
     },
     "execution_count": 3,
     "metadata": {},
     "output_type": "execute_result"
    }
   ],
   "source": [
    "# Verifica o tamanho\n",
    "bd.shape"
   ]
  },
  {
   "cell_type": "code",
   "execution_count": 4,
   "metadata": {},
   "outputs": [
    {
     "data": {
      "text/plain": [
       "mpg             float64\n",
       "cylinders         int64\n",
       "displacement    float64\n",
       "horsepower       object\n",
       "weight            int64\n",
       "acceleration    float64\n",
       "year              int64\n",
       "origin            int64\n",
       "name             object\n",
       "dtype: object"
      ]
     },
     "execution_count": 4,
     "metadata": {},
     "output_type": "execute_result"
    }
   ],
   "source": [
    "# Vamos olhar os tipos (classes) das variáveis\n",
    "bd.dtypes"
   ]
  },
  {
   "cell_type": "markdown",
   "metadata": {},
   "source": [
    "Tem um probleminha com a variável horsepower. Ela tem cinco casos de um ponto de interrogação lá no meio. Precisamos limpar isso."
   ]
  },
  {
   "cell_type": "code",
   "execution_count": 5,
   "metadata": {},
   "outputs": [
    {
     "data": {
      "text/plain": [
       "count    392.000000\n",
       "mean     104.469388\n",
       "std       38.491160\n",
       "min       46.000000\n",
       "25%       75.000000\n",
       "50%       93.500000\n",
       "75%      126.000000\n",
       "max      230.000000\n",
       "Name: horsepower, dtype: float64"
      ]
     },
     "execution_count": 5,
     "metadata": {},
     "output_type": "execute_result"
    }
   ],
   "source": [
    "# Corrige a variável horsepower transformando-a em numeric\n",
    "bd.horsepower = pd.to_numeric(bd.horsepower, errors=\"coerce\")\n",
    "#bd.loc[bd[\"horsepower\"] == \"?\", \"horsepower\"] = np.nan\n",
    "#bd.horsepower = bd.horsepower.astype('float64')\n",
    "bd.horsepower.describe()"
   ]
  },
  {
   "cell_type": "code",
   "execution_count": 6,
   "metadata": {},
   "outputs": [],
   "source": [
    "# Joga fora os nas\n",
    "bd = bd.dropna()"
   ]
  },
  {
   "cell_type": "markdown",
   "metadata": {},
   "source": [
    "## Leave-one-out Cross-validation\n",
    "\n",
    "Ok! Agora vamos regredir `mpg` como função de `horsepower` e estimar o erro de teste usando LOOCV. Isto é possível fazer através da fórmula\n",
    "\n",
    "$$ CV_{(n)} = \\frac{1}{n} \\sum^n_{i=1} \\Bigg( \\frac{y_i - \\hat{y_i}}{1-h_i}  \\Bigg)^2 $$\n",
    "\n",
    "a qual podemos implementar. Vamos usar primeiro o método LeaveOneOut da biblioteca scikit-learn."
   ]
  },
  {
   "cell_type": "code",
   "execution_count": 7,
   "metadata": {},
   "outputs": [],
   "source": [
    "# Implementando a fórmula do LOOCV\n",
    "\n",
    "# Esta fórmula corresponde ao h (leverage)\n",
    "def leverage(x):\n",
    "    n = len(x)\n",
    "    h = [1/n + (i - np.mean(x))**2 / sum((x - np.mean(x))**2) for i in x]\n",
    "    # A linha acima é a mesma coisa que:\n",
    "    #for i in x:\n",
    "    #    res = 1/n + (i - np.mean(x))**2 / sum((x - np.mean(x))**2)\n",
    "    #    h.append(res)\n",
    "    return np.array(h)\n",
    "\n",
    "# Aqui a fórmula do loocv\n",
    "def loocv(true_values, predicted):\n",
    "    n = len(true_values)\n",
    "    h = leverage(true_values)\n",
    "    calc_values = [((true_values[i] - predicted[i]) / (1 - h[i]))**2 for i in range(len(true_values))]\n",
    "    res = (1/n) * sum(calc_values)\n",
    "    return(res)"
   ]
  },
  {
   "cell_type": "code",
   "execution_count": 8,
   "metadata": {},
   "outputs": [
    {
     "data": {
      "text/plain": [
       "392"
      ]
     },
     "execution_count": 8,
     "metadata": {},
     "output_type": "execute_result"
    }
   ],
   "source": [
    "# iniciamos uma instância do LOOCV do sklearn\n",
    "loo = LeaveOneOut()\n",
    "loo.get_n_splits(bd)"
   ]
  },
  {
   "cell_type": "code",
   "execution_count": 9,
   "metadata": {},
   "outputs": [
    {
     "name": "stdout",
     "output_type": "stream",
     "text": [
      "392\n"
     ]
    }
   ],
   "source": [
    "# Inicia uma instância do modelo de Regressão Linear\n",
    "reg = LinearRegression(fit_intercept=True)\n",
    "\n",
    "# Divide os dados em X e y para estimação\n",
    "y = bd.mpg\n",
    "X = bd.horsepower\n",
    "# Transforma em array\n",
    "y = np.array(y)\n",
    "X = np.array(X)\n",
    "# Tem que fazer esse reshape quando é regressão simples\n",
    "X = X.reshape(-1, 1)\n",
    "\n",
    "# Cria uma lista para armazenar todos os MSE\n",
    "mse_list = []\n",
    "# Executa o LOOCV. Treinando n modelos e guardando o MSE na lista acima\n",
    "for train, test in loo.split(X):\n",
    "    X_train, X_test = X[train], X[test]\n",
    "    y_train, y_test = y[train], y[test]\n",
    "    reg.fit(X_train, y_train)\n",
    "    yhat = reg.predict(X_test)\n",
    "    measure = mean_squared_error(y_test, yhat)\n",
    "    mse_list.append(measure)\n",
    "\n",
    "# Transforma a lista em um array\n",
    "mse_array = np.array(mse_list)\n",
    "print(len(mse_array))"
   ]
  },
  {
   "cell_type": "code",
   "execution_count": 10,
   "metadata": {},
   "outputs": [
    {
     "name": "stdout",
     "output_type": "stream",
     "text": [
      "MSE with LOOCV:  24.23151351792923\n"
     ]
    }
   ],
   "source": [
    "print(\"MSE with LOOCV: \", mse_array.mean())"
   ]
  },
  {
   "cell_type": "code",
   "execution_count": 11,
   "metadata": {},
   "outputs": [
    {
     "name": "stdout",
     "output_type": "stream",
     "text": [
      "MSE with calculated LOOCV:  24.338333845461573\n"
     ]
    }
   ],
   "source": [
    "# Testando com a formula do LOOCV\n",
    "reg.fit(X, y)\n",
    "yhat_loocv = reg.predict(X)\n",
    "calc_loocv = loocv(y, yhat_loocv)\n",
    "print(\"MSE with calculated LOOCV: \", calc_loocv)"
   ]
  },
  {
   "cell_type": "markdown",
   "metadata": {},
   "source": [
    "**Wow!!!!** A fórmula do LOOCV teve um resultado impressionantemente próximo ao estimado ajustando $n$ modelos. Agora, vamos ver a diferença usando apenas um split aleatório:"
   ]
  },
  {
   "cell_type": "code",
   "execution_count": 12,
   "metadata": {},
   "outputs": [
    {
     "name": "stdout",
     "output_type": "stream",
     "text": [
      "MSE without LOOCV:  21.797485544590913\n"
     ]
    }
   ],
   "source": [
    "# Com apenas um split\n",
    "X_train, X_test, y_train, y_test = train_test_split(X, y, test_size=.3, random_state=2)\n",
    "reg.fit(X_train, y_train)\n",
    "yhat = reg.predict(X_test)\n",
    "measure = mean_squared_error(y_test, yhat)\n",
    "print(\"MSE without LOOCV: \", measure)"
   ]
  },
  {
   "cell_type": "markdown",
   "metadata": {},
   "source": [
    "## KFold cross-validation\n",
    "\n",
    "Vamos estimar o MSE agora com 5-Fold e 10-Fold CV"
   ]
  },
  {
   "cell_type": "code",
   "execution_count": 13,
   "metadata": {},
   "outputs": [
    {
     "data": {
      "text/plain": [
       "5"
      ]
     },
     "execution_count": 13,
     "metadata": {},
     "output_type": "execute_result"
    }
   ],
   "source": [
    "kf5 = KFold(5)\n",
    "kf5.get_n_splits(bd)"
   ]
  },
  {
   "cell_type": "code",
   "execution_count": 14,
   "metadata": {},
   "outputs": [
    {
     "name": "stdout",
     "output_type": "stream",
     "text": [
      "5\n"
     ]
    }
   ],
   "source": [
    "mse_list = []\n",
    "for train, test in kf5.split(bd):\n",
    "    X_train, X_test = X[train], X[test]\n",
    "    y_train, y_test = y[train], y[test]\n",
    "    reg.fit(X_train, y_train)\n",
    "    yhat = reg.predict(X_test)\n",
    "    measure = mean_squared_error(y_test, yhat)\n",
    "    mse_list.append(measure)\n",
    "\n",
    "mse_array = np.array(mse_list)\n",
    "print(len(mse_array))"
   ]
  },
  {
   "cell_type": "code",
   "execution_count": 15,
   "metadata": {},
   "outputs": [
    {
     "name": "stdout",
     "output_type": "stream",
     "text": [
      "MSE with 5-Fold CV:  31.447014088557516\n"
     ]
    }
   ],
   "source": [
    "print(\"MSE with 5-Fold CV: \" ,mse_array.mean())"
   ]
  },
  {
   "cell_type": "code",
   "execution_count": 16,
   "metadata": {},
   "outputs": [
    {
     "name": "stdout",
     "output_type": "stream",
     "text": [
      "10\n",
      "MSE with 5-Fold CV:  27.439933652339874\n"
     ]
    }
   ],
   "source": [
    "# Agora com 10-Fold\n",
    "kf10 = KFold(10)\n",
    "\n",
    "mse_list = []\n",
    "for train, test in kf10.split(bd):\n",
    "    X_train, X_test = X[train], X[test]\n",
    "    y_train, y_test = y[train], y[test]\n",
    "    reg.fit(X_train, y_train)\n",
    "    yhat = reg.predict(X_test)\n",
    "    measure = mean_squared_error(y_test, yhat)\n",
    "    mse_list.append(measure)\n",
    "\n",
    "mse_array = np.array(mse_list)\n",
    "print(len(mse_array))\n",
    "print(\"MSE with 5-Fold CV: \" ,mse_array.mean())"
   ]
  },
  {
   "cell_type": "markdown",
   "metadata": {},
   "source": [
    "## Verificando o ajuste com regressões polinomiais\n",
    "\n",
    "Em uma unidade anterior, verificamos que `mpg` é melhor ajustado por `horsepower` quando utilizamos uma regressão polinomial visto que há uma relação não linear entre essas variáveis. Vamos verificar essa relação com um scatterplot:"
   ]
  },
  {
   "cell_type": "code",
   "execution_count": 17,
   "metadata": {},
   "outputs": [
    {
     "data": {
      "image/png": "[encoded data removed]",
      "text/plain": [
       "<Figure size 432x288 with 1 Axes>"
      ]
     },
     "metadata": {
      "needs_background": "light"
     },
     "output_type": "display_data"
    }
   ],
   "source": [
    "# Define o scatter\n",
    "plt.scatter(x=bd.horsepower, y=bd.mpg, alpha=.7)\n",
    "plt.xlabel(\"Horse power\") # Define o label do x\n",
    "plt.ylabel(\"Miles per galon\") # Define o label do y\n",
    "plt.show()   # Show!!!"
   ]
  },
  {
   "cell_type": "markdown",
   "metadata": {},
   "source": [
    "Sabemos também que podemos testar vários graus de polinomiais para ajustar `mpg`. Como podemos descobrir qual é o melhor polinomial? Podemos testar qual dos polinomiais se ajusta melhor usando CV!!!\n",
    "\n",
    "Vamos testar polinomiais até o grau 5 usando 5-Fold CV:"
   ]
  },
  {
   "cell_type": "code",
   "execution_count": 18,
   "metadata": {},
   "outputs": [
    {
     "data": {
      "text/plain": [
       "10"
      ]
     },
     "execution_count": 18,
     "metadata": {},
     "output_type": "execute_result"
    }
   ],
   "source": [
    "# fazendo 5 datasets, cada um com número de polinimiais diferentes. O primeiro normal,\n",
    "# o segundo com X e X**2, o terceiro com X, X**2 e X**3, etc...\n",
    "X_list = [X]\n",
    "for i in range(2,11):\n",
    "    poly = PolynomialFeatures(i)\n",
    "    new = poly.fit_transform(X)\n",
    "    X_list.append(new)\n",
    "len(X_list)"
   ]
  },
  {
   "cell_type": "code",
   "execution_count": 19,
   "metadata": {},
   "outputs": [
    {
     "name": "stdout",
     "output_type": "stream",
     "text": [
      "10\n",
      "[28.34783584 16.55513797 19.97659557 21.77511368 13.0039912  10.82331875\n",
      " 11.87925373 20.40799137 49.81108114 35.85418681]\n"
     ]
    }
   ],
   "source": [
    "# kf10 já foi definido lá em cima\n",
    "mse_list = []\n",
    "for i, (train, test) in enumerate(kf10.split(bd)):\n",
    "    X_train, X_test = X_list[i][train], X_list[i][test]\n",
    "    y_train, y_test = y[train], y[test]\n",
    "    reg.fit(X_train, y_train)\n",
    "    yhat = reg.predict(X_test)\n",
    "    measure = mean_squared_error(y_test, yhat)\n",
    "    mse_list.append(measure)\n",
    "\n",
    "mse_array = np.array(mse_list)\n",
    "print(len(mse_array))\n",
    "print(mse_array)"
   ]
  },
  {
   "cell_type": "code",
   "execution_count": 20,
   "metadata": {},
   "outputs": [
    {
     "data": {
      "image/png": "[encoded data removed]",
      "text/plain": [
       "<Figure size 432x288 with 1 Axes>"
      ]
     },
     "metadata": {
      "needs_background": "light"
     },
     "output_type": "display_data"
    }
   ],
   "source": [
    "# Plotando um gráfico com os diferentes polinomiais\n",
    "plt.plot(mse_array, color='red')\n",
    "plt.xticks(range(10), range(1, 11)) # muda os labels do x para começar no 1\n",
    "plt.xlabel('Grau')\n",
    "plt.ylabel('MSE')\n",
    "plt.show()"
   ]
  },
  {
   "cell_type": "markdown",
   "metadata": {},
   "source": [
    "## Bootstrap\n",
    "\n",
    "Agora, vamos experimentar calcular o MSE e o intervalo de confiança da métrica usando bootstrap"
   ]
  },
  {
   "cell_type": "code",
   "execution_count": 21,
   "metadata": {},
   "outputs": [
    {
     "name": "stdout",
     "output_type": "stream",
     "text": [
      "Sample size:  392\n",
      "Number of bootstrap iterations:  1000\n",
      "MSE with Bootstrap:  24.1099051163842\n"
     ]
    }
   ],
   "source": [
    "# Configurando o bootstrap\n",
    "n_iterations = 1000  # gera mil amostras\n",
    "n_size = int(len(X))\n",
    "print(\"Sample size: \", n_size)\n",
    "print(\"Number of bootstrap iterations: \", n_iterations)\n",
    "\n",
    "# Executa o bootstrap\n",
    "stats = []\n",
    "for i in range(n_iterations):\n",
    "    X_re, y_re = resample(X, y, replace=True, n_samples=n_size)\n",
    "    X_train, X_test, y_train, y_test = train_test_split(X_re, y_re, test_size=.3, random_state=2)\n",
    "    reg.fit(X_train, y_train)\n",
    "    yhat_boot = reg.predict(X_test)\n",
    "    measure = mean_squared_error(y_test, yhat_boot)\n",
    "    stats.append(measure)\n",
    "\n",
    "stats = np.array(stats)\n",
    "print(\"MSE with Bootstrap: \", stats.mean())"
   ]
  },
  {
   "cell_type": "markdown",
   "metadata": {},
   "source": [
    "Vamos agora plotar a distribuição das medidas geradas por bootstrap e calcular o intervalo de confiança a 95%. Espera-se que as medidas possuam uma distribuição normal."
   ]
  },
  {
   "cell_type": "code",
   "execution_count": 22,
   "metadata": {},
   "outputs": [
    {
     "data": {
      "image/png": "[encoded data removed]",
      "text/plain": [
       "<Figure size 432x288 with 1 Axes>"
      ]
     },
     "metadata": {},
     "output_type": "display_data"
    }
   ],
   "source": [
    "plt.style.use(\"dark_background\")\n",
    "plt.hist(stats)\n",
    "plt.title(\"Distribuição de MSE's gerados com Bootstrap\")\n",
    "plt.xlabel(\"MSE\")\n",
    "plt.ylabel(\"Frequência\")\n",
    "plt.show()"
   ]
  },
  {
   "cell_type": "markdown",
   "metadata": {},
   "source": [
    "Agora, vamos calcular o erro padrão do MSE calculado e o intervalo de confiança."
   ]
  },
  {
   "cell_type": "code",
   "execution_count": 23,
   "metadata": {},
   "outputs": [],
   "source": [
    "# Importa funções relacionadas à distribuição t\n",
    "from scipy.stats import t"
   ]
  },
  {
   "cell_type": "code",
   "execution_count": 24,
   "metadata": {},
   "outputs": [
    {
     "name": "stdout",
     "output_type": "stream",
     "text": [
      "Teste...\n",
      "Valor crítico de t a 95% de confiança com 10 gl:  2.2281388519649385\n",
      "Funções definidas.\n"
     ]
    }
   ],
   "source": [
    "print(\"Teste...\")\n",
    "print(\"Valor crítico de t a 95% de confiança com 10 gl: \",t.interval(0.95, 10)[1])\n",
    "\n",
    "# Função para calcular o erro padrão\n",
    "def stderr(x):\n",
    "    n = len(x)\n",
    "    return np.std(x) / np.sqrt(n)\n",
    "\n",
    "# Função para calcular o intervalo de confiança\n",
    "def confint95(x):\n",
    "    n = len(x)\n",
    "    err = stderr(x)\n",
    "    endp = t.interval(0.95, n-1)[1]\n",
    "    up = np.mean(x) + endp*err\n",
    "    low = np.mean(x) - endp*err\n",
    "    return np.array([low, up])\n",
    "\n",
    "print(\"Funções definidas.\")"
   ]
  },
  {
   "cell_type": "code",
   "execution_count": 25,
   "metadata": {},
   "outputs": [
    {
     "name": "stdout",
     "output_type": "stream",
     "text": [
      "Erro padrão da média de MSE:  0.10770353437537113\n",
      "Intervalo de confiança do MSE:  [23.89855401 24.32125623]\n"
     ]
    }
   ],
   "source": [
    "print(\"Erro padrão da média de MSE: \", stderr(stats))\n",
    "print(\"Intervalo de confiança do MSE: \", confint95(stats))"
   ]
  },
  {
   "cell_type": "markdown",
   "metadata": {},
   "source": [
    "Podemos também usar *bootstrap* para ter uma estimativa mais segura do erro padrão dos coeficientes de um modelo, por exemplo. Para isso, vamos implementar uma função para calcular a"
   ]
  },
  {
   "cell_type": "code",
   "execution_count": 26,
   "metadata": {},
   "outputs": [
    {
     "data": {
      "text/plain": [
       "array([[0.0001096]])"
      ]
     },
     "execution_count": 26,
     "metadata": {},
     "output_type": "execute_result"
    }
   ],
   "source": [
    "def sum_squared_error(true, pred):\n",
    "    errors = sum([true[i] - pred[i] for i in range(len(true))])\n",
    "    return(errors)\n",
    "\n",
    "\n",
    "def stderr_coef(true, pred, coefs, X):\n",
    "    sse = sum_squared_error(true, pred)/ float(X.shape[0] - (X.shape[1] + 1) )\n",
    "    standard_error = np.array([np.sqrt(np.diagonal(sse * np.linalg.inv(np.dot(X.T, X))))])\n",
    "    return standard_error\n",
    "\n",
    "stderr_coef(y_test, yhat_boot, reg.coef_, X_train)"
   ]
  },
  {
   "cell_type": "code",
   "execution_count": 27,
   "metadata": {},
   "outputs": [
    {
     "name": "stdout",
     "output_type": "stream",
     "text": [
      "Sample size:  392\n",
      "Number of bootstrap iterations:  1000\n"
     ]
    },
    {
     "name": "stderr",
     "output_type": "stream",
     "text": [
      "/Users/neylson/anaconda3/lib/python3.6/site-packages/ipykernel_launcher.py:8: RuntimeWarning: invalid value encountered in sqrt\n",
      "  \n"
     ]
    },
    {
     "name": "stdout",
     "output_type": "stream",
     "text": [
      "Number of missing data:  494\n",
      "Coefs' Std Error with Bootstrap:  0.00021693973320255068\n"
     ]
    }
   ],
   "source": [
    "# Configurando o bootstrap\n",
    "n_iterations = 1000  # gera mil amostras\n",
    "n_size = int(len(X))\n",
    "print(\"Sample size: \", n_size)\n",
    "print(\"Number of bootstrap iterations: \", n_iterations)\n",
    "\n",
    "# Executa o bootstrap\n",
    "stats = []\n",
    "for i in range(n_iterations):\n",
    "    X_re, y_re = resample(X, y, replace=True, n_samples=n_size)\n",
    "    X_train, X_test, y_train, y_test = train_test_split(X_re, y_re, test_size=.3, random_state=2)\n",
    "    reg.fit(X_train, y_train)\n",
    "    yhat_boot = reg.predict(X_test)\n",
    "    measure = stderr_coef(y_test, yhat_boot, reg.coef_, X_train)\n",
    "    stats.append(measure)\n",
    "\n",
    "stats = np.array(stats)\n",
    "print(\"Number of missing data: \", len(stats[~np.isnan(stats)]))\n",
    "print(\"Coefs' Std Error with Bootstrap: \", np.nanmean(stats))"
   ]
  }
 ],
 "metadata": {
  "kernelspec": {
   "display_name": "Python 3",
   "language": "python",
   "name": "python3"
  },
  "language_info": {
   "codemirror_mode": {
    "name": "ipython",
    "version": 3
   },
   "file_extension": ".py",
   "mimetype": "text/x-python",
   "name": "python",
   "nbconvert_exporter": "python",
   "pygments_lexer": "ipython3",
   "version": "3.6.6"
  }
 },
 "nbformat": 4,
 "nbformat_minor": 2
}
