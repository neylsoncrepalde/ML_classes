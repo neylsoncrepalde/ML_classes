{
 "cells": [
  {
   "cell_type": "markdown",
   "metadata": {},
   "source": [
    "# Machine Learning\n",
    "\n",
    "## Exercício ENADE 2014"
   ]
  },
  {
   "cell_type": "code",
   "execution_count": 8,
   "metadata": {},
   "outputs": [],
   "source": [
    "import pandas as pd\n",
    "import numpy as np\n",
    "import matplotlib.pyplot as plt\n",
    "import seaborn as sns\n",
    "%matplotlib inline\n",
    "\n",
    "from sklearn.model_selection import train_test_split\n",
    "from sklearn.metrics import mean_squared_error\n",
    "\n",
    "from sklearn.linear_model import LinearRegression\n",
    "from sklearn.model_selection import KFold"
   ]
  },
  {
   "cell_type": "code",
   "execution_count": 2,
   "metadata": {},
   "outputs": [
    {
     "data": {
      "text/html": [
       "<div>\n",
       "<style scoped>\n",
       "    .dataframe tbody tr th:only-of-type {\n",
       "        vertical-align: middle;\n",
       "    }\n",
       "\n",
       "    .dataframe tbody tr th {\n",
       "        vertical-align: top;\n",
       "    }\n",
       "\n",
       "    .dataframe thead th {\n",
       "        text-align: right;\n",
       "    }\n",
       "</style>\n",
       "<table border=\"1\" class=\"dataframe\">\n",
       "  <thead>\n",
       "    <tr style=\"text-align: right;\">\n",
       "      <th></th>\n",
       "      <th>nu_ano</th>\n",
       "      <th>co_grupo</th>\n",
       "      <th>co_ies</th>\n",
       "      <th>co_catad</th>\n",
       "      <th>co_orgac</th>\n",
       "      <th>co_munic_curso</th>\n",
       "      <th>co_uf_curso</th>\n",
       "      <th>co_regiao_curso</th>\n",
       "      <th>nu_idade</th>\n",
       "      <th>tp_sexo</th>\n",
       "      <th>...</th>\n",
       "      <th>qe_i72</th>\n",
       "      <th>qe_i73</th>\n",
       "      <th>qe_i74</th>\n",
       "      <th>qe_i75</th>\n",
       "      <th>qe_i76</th>\n",
       "      <th>qe_i77</th>\n",
       "      <th>qe_i78</th>\n",
       "      <th>qe_i79</th>\n",
       "      <th>qe_i80</th>\n",
       "      <th>qe_i81</th>\n",
       "    </tr>\n",
       "  </thead>\n",
       "  <tbody>\n",
       "    <tr>\n",
       "      <th>0</th>\n",
       "      <td>2014</td>\n",
       "      <td>2001</td>\n",
       "      <td>671</td>\n",
       "      <td>10005</td>\n",
       "      <td>10028</td>\n",
       "      <td>5002704</td>\n",
       "      <td>50</td>\n",
       "      <td>5</td>\n",
       "      <td>36</td>\n",
       "      <td>F</td>\n",
       "      <td>...</td>\n",
       "      <td>a</td>\n",
       "      <td>a</td>\n",
       "      <td>a</td>\n",
       "      <td>b</td>\n",
       "      <td>a</td>\n",
       "      <td>c</td>\n",
       "      <td>a</td>\n",
       "      <td>a</td>\n",
       "      <td>b</td>\n",
       "      <td>a</td>\n",
       "    </tr>\n",
       "    <tr>\n",
       "      <th>1</th>\n",
       "      <td>2014</td>\n",
       "      <td>2402</td>\n",
       "      <td>597</td>\n",
       "      <td>93</td>\n",
       "      <td>10028</td>\n",
       "      <td>3170107</td>\n",
       "      <td>31</td>\n",
       "      <td>3</td>\n",
       "      <td>23</td>\n",
       "      <td>F</td>\n",
       "      <td>...</td>\n",
       "      <td>c</td>\n",
       "      <td>a</td>\n",
       "      <td>a</td>\n",
       "      <td>d</td>\n",
       "      <td>c</td>\n",
       "      <td>a</td>\n",
       "      <td>a</td>\n",
       "      <td>a</td>\n",
       "      <td>a</td>\n",
       "      <td>a</td>\n",
       "    </tr>\n",
       "    <tr>\n",
       "      <th>2</th>\n",
       "      <td>2014</td>\n",
       "      <td>5902</td>\n",
       "      <td>343</td>\n",
       "      <td>10005</td>\n",
       "      <td>10020</td>\n",
       "      <td>3106200</td>\n",
       "      <td>31</td>\n",
       "      <td>3</td>\n",
       "      <td>27</td>\n",
       "      <td>M</td>\n",
       "      <td>...</td>\n",
       "      <td>NaN</td>\n",
       "      <td>NaN</td>\n",
       "      <td>NaN</td>\n",
       "      <td>NaN</td>\n",
       "      <td>NaN</td>\n",
       "      <td>NaN</td>\n",
       "      <td>NaN</td>\n",
       "      <td>NaN</td>\n",
       "      <td>NaN</td>\n",
       "      <td>NaN</td>\n",
       "    </tr>\n",
       "    <tr>\n",
       "      <th>3</th>\n",
       "      <td>2014</td>\n",
       "      <td>4006</td>\n",
       "      <td>521</td>\n",
       "      <td>10005</td>\n",
       "      <td>10028</td>\n",
       "      <td>3530607</td>\n",
       "      <td>35</td>\n",
       "      <td>3</td>\n",
       "      <td>20</td>\n",
       "      <td>M</td>\n",
       "      <td>...</td>\n",
       "      <td>NaN</td>\n",
       "      <td>NaN</td>\n",
       "      <td>NaN</td>\n",
       "      <td>NaN</td>\n",
       "      <td>NaN</td>\n",
       "      <td>NaN</td>\n",
       "      <td>NaN</td>\n",
       "      <td>NaN</td>\n",
       "      <td>NaN</td>\n",
       "      <td>NaN</td>\n",
       "    </tr>\n",
       "    <tr>\n",
       "      <th>4</th>\n",
       "      <td>2014</td>\n",
       "      <td>6208</td>\n",
       "      <td>4428</td>\n",
       "      <td>10003</td>\n",
       "      <td>10022</td>\n",
       "      <td>3302403</td>\n",
       "      <td>33</td>\n",
       "      <td>3</td>\n",
       "      <td>24</td>\n",
       "      <td>M</td>\n",
       "      <td>...</td>\n",
       "      <td>NaN</td>\n",
       "      <td>NaN</td>\n",
       "      <td>NaN</td>\n",
       "      <td>NaN</td>\n",
       "      <td>NaN</td>\n",
       "      <td>NaN</td>\n",
       "      <td>NaN</td>\n",
       "      <td>NaN</td>\n",
       "      <td>NaN</td>\n",
       "      <td>NaN</td>\n",
       "    </tr>\n",
       "  </tbody>\n",
       "</table>\n",
       "<p>5 rows × 155 columns</p>\n",
       "</div>"
      ],
      "text/plain": [
       "   nu_ano  co_grupo  co_ies  co_catad  co_orgac  co_munic_curso  co_uf_curso  \\\n",
       "0    2014      2001     671     10005     10028         5002704           50   \n",
       "1    2014      2402     597        93     10028         3170107           31   \n",
       "2    2014      5902     343     10005     10020         3106200           31   \n",
       "3    2014      4006     521     10005     10028         3530607           35   \n",
       "4    2014      6208    4428     10003     10022         3302403           33   \n",
       "\n",
       "   co_regiao_curso  nu_idade tp_sexo   ...    qe_i72  qe_i73  qe_i74  qe_i75  \\\n",
       "0                5        36       F   ...         a       a       a       b   \n",
       "1                3        23       F   ...         c       a       a       d   \n",
       "2                3        27       M   ...       NaN     NaN     NaN     NaN   \n",
       "3                3        20       M   ...       NaN     NaN     NaN     NaN   \n",
       "4                3        24       M   ...       NaN     NaN     NaN     NaN   \n",
       "\n",
       "   qe_i76  qe_i77  qe_i78  qe_i79  qe_i80  qe_i81  \n",
       "0       a       c       a       a       b       a  \n",
       "1       c       a       a       a       a       a  \n",
       "2     NaN     NaN     NaN     NaN     NaN     NaN  \n",
       "3     NaN     NaN     NaN     NaN     NaN     NaN  \n",
       "4     NaN     NaN     NaN     NaN     NaN     NaN  \n",
       "\n",
       "[5 rows x 155 columns]"
      ]
     },
     "execution_count": 2,
     "metadata": {},
     "output_type": "execute_result"
    }
   ],
   "source": [
    "enade = pd.read_csv(\"https://github.com/neylsoncrepalde/introducao_ao_r/raw/master/dados/enade_2014_amostra.csv\", sep=\";\")\n",
    "enade.head()"
   ]
  },
  {
   "cell_type": "code",
   "execution_count": 3,
   "metadata": {},
   "outputs": [
    {
     "data": {
      "text/plain": [
       "(10000, 155)"
      ]
     },
     "execution_count": 3,
     "metadata": {},
     "output_type": "execute_result"
    }
   ],
   "source": [
    "enade.shape"
   ]
  },
  {
   "cell_type": "code",
   "execution_count": 4,
   "metadata": {},
   "outputs": [],
   "source": [
    "bd = enade[[\"nt_ger\", \"nu_idade\", \"tp_sexo\", \"qe_i1\", \"qe_i2\",\n",
    "           \"qe_i3\", \"qe_i4\", \"qe_i5\", \"qe_i6\", \"qe_i7\", \"qe_i8\",\n",
    "           \"qe_i9\", \"qe_i10\"]]"
   ]
  },
  {
   "cell_type": "code",
   "execution_count": 5,
   "metadata": {},
   "outputs": [
    {
     "data": {
      "text/html": [
       "<div>\n",
       "<style scoped>\n",
       "    .dataframe tbody tr th:only-of-type {\n",
       "        vertical-align: middle;\n",
       "    }\n",
       "\n",
       "    .dataframe tbody tr th {\n",
       "        vertical-align: top;\n",
       "    }\n",
       "\n",
       "    .dataframe thead th {\n",
       "        text-align: right;\n",
       "    }\n",
       "</style>\n",
       "<table border=\"1\" class=\"dataframe\">\n",
       "  <thead>\n",
       "    <tr style=\"text-align: right;\">\n",
       "      <th></th>\n",
       "      <th>nt_ger</th>\n",
       "      <th>nu_idade</th>\n",
       "      <th>tp_sexo</th>\n",
       "      <th>qe_i1</th>\n",
       "      <th>qe_i2</th>\n",
       "      <th>qe_i3</th>\n",
       "      <th>qe_i4</th>\n",
       "      <th>qe_i5</th>\n",
       "      <th>qe_i6</th>\n",
       "      <th>qe_i7</th>\n",
       "      <th>qe_i8</th>\n",
       "      <th>qe_i9</th>\n",
       "      <th>qe_i10</th>\n",
       "    </tr>\n",
       "  </thead>\n",
       "  <tbody>\n",
       "    <tr>\n",
       "      <th>0</th>\n",
       "      <td>421.0</td>\n",
       "      <td>36</td>\n",
       "      <td>F</td>\n",
       "      <td>b</td>\n",
       "      <td>c</td>\n",
       "      <td>a</td>\n",
       "      <td>e</td>\n",
       "      <td>b</td>\n",
       "      <td>c</td>\n",
       "      <td>e</td>\n",
       "      <td>a</td>\n",
       "      <td>b</td>\n",
       "      <td>a</td>\n",
       "    </tr>\n",
       "    <tr>\n",
       "      <th>1</th>\n",
       "      <td>357.0</td>\n",
       "      <td>23</td>\n",
       "      <td>F</td>\n",
       "      <td>b</td>\n",
       "      <td>a</td>\n",
       "      <td>a</td>\n",
       "      <td>d</td>\n",
       "      <td>d</td>\n",
       "      <td>c</td>\n",
       "      <td>b</td>\n",
       "      <td>c</td>\n",
       "      <td>d</td>\n",
       "      <td>d</td>\n",
       "    </tr>\n",
       "    <tr>\n",
       "      <th>2</th>\n",
       "      <td>NaN</td>\n",
       "      <td>27</td>\n",
       "      <td>M</td>\n",
       "      <td>a</td>\n",
       "      <td>c</td>\n",
       "      <td>a</td>\n",
       "      <td>d</td>\n",
       "      <td>f</td>\n",
       "      <td>b</td>\n",
       "      <td>b</td>\n",
       "      <td>c</td>\n",
       "      <td>c</td>\n",
       "      <td>d</td>\n",
       "    </tr>\n",
       "    <tr>\n",
       "      <th>3</th>\n",
       "      <td>NaN</td>\n",
       "      <td>20</td>\n",
       "      <td>M</td>\n",
       "      <td>NaN</td>\n",
       "      <td>NaN</td>\n",
       "      <td>NaN</td>\n",
       "      <td>NaN</td>\n",
       "      <td>NaN</td>\n",
       "      <td>NaN</td>\n",
       "      <td>NaN</td>\n",
       "      <td>NaN</td>\n",
       "      <td>NaN</td>\n",
       "      <td>NaN</td>\n",
       "    </tr>\n",
       "    <tr>\n",
       "      <th>4</th>\n",
       "      <td>598.0</td>\n",
       "      <td>24</td>\n",
       "      <td>M</td>\n",
       "      <td>a</td>\n",
       "      <td>a</td>\n",
       "      <td>a</td>\n",
       "      <td>d</td>\n",
       "      <td>f</td>\n",
       "      <td>b</td>\n",
       "      <td>c</td>\n",
       "      <td>f</td>\n",
       "      <td>d</td>\n",
       "      <td>e</td>\n",
       "    </tr>\n",
       "  </tbody>\n",
       "</table>\n",
       "</div>"
      ],
      "text/plain": [
       "   nt_ger  nu_idade tp_sexo qe_i1 qe_i2 qe_i3 qe_i4 qe_i5 qe_i6 qe_i7 qe_i8  \\\n",
       "0   421.0        36       F     b     c     a     e     b     c     e     a   \n",
       "1   357.0        23       F     b     a     a     d     d     c     b     c   \n",
       "2     NaN        27       M     a     c     a     d     f     b     b     c   \n",
       "3     NaN        20       M   NaN   NaN   NaN   NaN   NaN   NaN   NaN   NaN   \n",
       "4   598.0        24       M     a     a     a     d     f     b     c     f   \n",
       "\n",
       "  qe_i9 qe_i10  \n",
       "0     b      a  \n",
       "1     d      d  \n",
       "2     c      d  \n",
       "3   NaN    NaN  \n",
       "4     d      e  "
      ]
     },
     "execution_count": 5,
     "metadata": {},
     "output_type": "execute_result"
    }
   ],
   "source": [
    "bd.head()"
   ]
  },
  {
   "cell_type": "markdown",
   "metadata": {},
   "source": [
    "## Atividade\n",
    "\n",
    "Utilize seus conhecimentos em *Machine Learning* até agora para encontrar um bom modelo que prediga o desempenho dos alunos no Enade (a nota geral).\n",
    "\n",
    "Utilize as técnicas que vc aprendeu.\n",
    "\n",
    "**Cuidado com os Missing Values!!!**"
   ]
  },
  {
   "cell_type": "code",
   "execution_count": 7,
   "metadata": {},
   "outputs": [
    {
     "data": {
      "text/plain": [
       "(8244, 13)"
      ]
     },
     "execution_count": 7,
     "metadata": {},
     "output_type": "execute_result"
    }
   ],
   "source": [
    "bd = bd.dropna()\n",
    "bd.shape"
   ]
  },
  {
   "cell_type": "code",
   "execution_count": 10,
   "metadata": {},
   "outputs": [
    {
     "data": {
      "image/png": "[encoded data removed]",
      "text/plain": [
       "<matplotlib.figure.Figure at 0xb6a11d0>"
      ]
     },
     "metadata": {},
     "output_type": "display_data"
    }
   ],
   "source": [
    "sns.distplot(bd.nt_ger)\n",
    "plt.title(\"Nota geral - Enade 2014\")\n",
    "plt.show()"
   ]
  },
  {
   "cell_type": "code",
   "execution_count": 11,
   "metadata": {},
   "outputs": [
    {
     "data": {
      "text/html": [
       "<div>\n",
       "<style scoped>\n",
       "    .dataframe tbody tr th:only-of-type {\n",
       "        vertical-align: middle;\n",
       "    }\n",
       "\n",
       "    .dataframe tbody tr th {\n",
       "        vertical-align: top;\n",
       "    }\n",
       "\n",
       "    .dataframe thead th {\n",
       "        text-align: right;\n",
       "    }\n",
       "</style>\n",
       "<table border=\"1\" class=\"dataframe\">\n",
       "  <thead>\n",
       "    <tr style=\"text-align: right;\">\n",
       "      <th></th>\n",
       "      <th>nt_ger</th>\n",
       "      <th>nu_idade</th>\n",
       "    </tr>\n",
       "  </thead>\n",
       "  <tbody>\n",
       "    <tr>\n",
       "      <th>count</th>\n",
       "      <td>8244.000000</td>\n",
       "      <td>8244.000000</td>\n",
       "    </tr>\n",
       "    <tr>\n",
       "      <th>mean</th>\n",
       "      <td>400.028142</td>\n",
       "      <td>29.700388</td>\n",
       "    </tr>\n",
       "    <tr>\n",
       "      <th>std</th>\n",
       "      <td>184.211475</td>\n",
       "      <td>8.456696</td>\n",
       "    </tr>\n",
       "    <tr>\n",
       "      <th>min</th>\n",
       "      <td>0.000000</td>\n",
       "      <td>18.000000</td>\n",
       "    </tr>\n",
       "    <tr>\n",
       "      <th>25%</th>\n",
       "      <td>292.000000</td>\n",
       "      <td>23.000000</td>\n",
       "    </tr>\n",
       "    <tr>\n",
       "      <th>50%</th>\n",
       "      <td>414.000000</td>\n",
       "      <td>27.000000</td>\n",
       "    </tr>\n",
       "    <tr>\n",
       "      <th>75%</th>\n",
       "      <td>528.000000</td>\n",
       "      <td>34.000000</td>\n",
       "    </tr>\n",
       "    <tr>\n",
       "      <th>max</th>\n",
       "      <td>943.000000</td>\n",
       "      <td>73.000000</td>\n",
       "    </tr>\n",
       "  </tbody>\n",
       "</table>\n",
       "</div>"
      ],
      "text/plain": [
       "            nt_ger     nu_idade\n",
       "count  8244.000000  8244.000000\n",
       "mean    400.028142    29.700388\n",
       "std     184.211475     8.456696\n",
       "min       0.000000    18.000000\n",
       "25%     292.000000    23.000000\n",
       "50%     414.000000    27.000000\n",
       "75%     528.000000    34.000000\n",
       "max     943.000000    73.000000"
      ]
     },
     "execution_count": 11,
     "metadata": {},
     "output_type": "execute_result"
    }
   ],
   "source": [
    "bd.describe()"
   ]
  },
  {
   "cell_type": "code",
   "execution_count": 13,
   "metadata": {},
   "outputs": [
    {
     "data": {
      "text/html": [
       "<div>\n",
       "<style scoped>\n",
       "    .dataframe tbody tr th:only-of-type {\n",
       "        vertical-align: middle;\n",
       "    }\n",
       "\n",
       "    .dataframe tbody tr th {\n",
       "        vertical-align: top;\n",
       "    }\n",
       "\n",
       "    .dataframe thead th {\n",
       "        text-align: right;\n",
       "    }\n",
       "</style>\n",
       "<table border=\"1\" class=\"dataframe\">\n",
       "  <thead>\n",
       "    <tr style=\"text-align: right;\">\n",
       "      <th></th>\n",
       "      <th>nt_ger</th>\n",
       "      <th>nu_idade</th>\n",
       "      <th>tp_sexo_F</th>\n",
       "      <th>tp_sexo_M</th>\n",
       "      <th>tp_sexo_N</th>\n",
       "      <th>qe_i1_a</th>\n",
       "      <th>qe_i1_b</th>\n",
       "      <th>qe_i1_c</th>\n",
       "      <th>qe_i1_d</th>\n",
       "      <th>qe_i1_e</th>\n",
       "      <th>...</th>\n",
       "      <th>qe_i9_b</th>\n",
       "      <th>qe_i9_c</th>\n",
       "      <th>qe_i9_d</th>\n",
       "      <th>qe_i9_e</th>\n",
       "      <th>qe_i9_f</th>\n",
       "      <th>qe_i10_a</th>\n",
       "      <th>qe_i10_b</th>\n",
       "      <th>qe_i10_c</th>\n",
       "      <th>qe_i10_d</th>\n",
       "      <th>qe_i10_e</th>\n",
       "    </tr>\n",
       "  </thead>\n",
       "  <tbody>\n",
       "    <tr>\n",
       "      <th>0</th>\n",
       "      <td>421.0</td>\n",
       "      <td>36</td>\n",
       "      <td>1</td>\n",
       "      <td>0</td>\n",
       "      <td>0</td>\n",
       "      <td>0</td>\n",
       "      <td>1</td>\n",
       "      <td>0</td>\n",
       "      <td>0</td>\n",
       "      <td>0</td>\n",
       "      <td>...</td>\n",
       "      <td>1</td>\n",
       "      <td>0</td>\n",
       "      <td>0</td>\n",
       "      <td>0</td>\n",
       "      <td>0</td>\n",
       "      <td>1</td>\n",
       "      <td>0</td>\n",
       "      <td>0</td>\n",
       "      <td>0</td>\n",
       "      <td>0</td>\n",
       "    </tr>\n",
       "    <tr>\n",
       "      <th>1</th>\n",
       "      <td>357.0</td>\n",
       "      <td>23</td>\n",
       "      <td>1</td>\n",
       "      <td>0</td>\n",
       "      <td>0</td>\n",
       "      <td>0</td>\n",
       "      <td>1</td>\n",
       "      <td>0</td>\n",
       "      <td>0</td>\n",
       "      <td>0</td>\n",
       "      <td>...</td>\n",
       "      <td>0</td>\n",
       "      <td>0</td>\n",
       "      <td>1</td>\n",
       "      <td>0</td>\n",
       "      <td>0</td>\n",
       "      <td>0</td>\n",
       "      <td>0</td>\n",
       "      <td>0</td>\n",
       "      <td>1</td>\n",
       "      <td>0</td>\n",
       "    </tr>\n",
       "    <tr>\n",
       "      <th>4</th>\n",
       "      <td>598.0</td>\n",
       "      <td>24</td>\n",
       "      <td>0</td>\n",
       "      <td>1</td>\n",
       "      <td>0</td>\n",
       "      <td>1</td>\n",
       "      <td>0</td>\n",
       "      <td>0</td>\n",
       "      <td>0</td>\n",
       "      <td>0</td>\n",
       "      <td>...</td>\n",
       "      <td>0</td>\n",
       "      <td>0</td>\n",
       "      <td>1</td>\n",
       "      <td>0</td>\n",
       "      <td>0</td>\n",
       "      <td>0</td>\n",
       "      <td>0</td>\n",
       "      <td>0</td>\n",
       "      <td>0</td>\n",
       "      <td>1</td>\n",
       "    </tr>\n",
       "    <tr>\n",
       "      <th>5</th>\n",
       "      <td>292.0</td>\n",
       "      <td>46</td>\n",
       "      <td>1</td>\n",
       "      <td>0</td>\n",
       "      <td>0</td>\n",
       "      <td>0</td>\n",
       "      <td>1</td>\n",
       "      <td>0</td>\n",
       "      <td>0</td>\n",
       "      <td>0</td>\n",
       "      <td>...</td>\n",
       "      <td>0</td>\n",
       "      <td>0</td>\n",
       "      <td>0</td>\n",
       "      <td>1</td>\n",
       "      <td>0</td>\n",
       "      <td>0</td>\n",
       "      <td>0</td>\n",
       "      <td>0</td>\n",
       "      <td>0</td>\n",
       "      <td>1</td>\n",
       "    </tr>\n",
       "    <tr>\n",
       "      <th>7</th>\n",
       "      <td>642.0</td>\n",
       "      <td>24</td>\n",
       "      <td>1</td>\n",
       "      <td>0</td>\n",
       "      <td>0</td>\n",
       "      <td>1</td>\n",
       "      <td>0</td>\n",
       "      <td>0</td>\n",
       "      <td>0</td>\n",
       "      <td>0</td>\n",
       "      <td>...</td>\n",
       "      <td>0</td>\n",
       "      <td>1</td>\n",
       "      <td>0</td>\n",
       "      <td>0</td>\n",
       "      <td>0</td>\n",
       "      <td>1</td>\n",
       "      <td>0</td>\n",
       "      <td>0</td>\n",
       "      <td>0</td>\n",
       "      <td>0</td>\n",
       "    </tr>\n",
       "  </tbody>\n",
       "</table>\n",
       "<p>5 rows × 62 columns</p>\n",
       "</div>"
      ],
      "text/plain": [
       "   nt_ger  nu_idade  tp_sexo_F  tp_sexo_M  tp_sexo_N  qe_i1_a  qe_i1_b  \\\n",
       "0   421.0        36          1          0          0        0        1   \n",
       "1   357.0        23          1          0          0        0        1   \n",
       "4   598.0        24          0          1          0        1        0   \n",
       "5   292.0        46          1          0          0        0        1   \n",
       "7   642.0        24          1          0          0        1        0   \n",
       "\n",
       "   qe_i1_c  qe_i1_d  qe_i1_e    ...     qe_i9_b  qe_i9_c  qe_i9_d  qe_i9_e  \\\n",
       "0        0        0        0    ...           1        0        0        0   \n",
       "1        0        0        0    ...           0        0        1        0   \n",
       "4        0        0        0    ...           0        0        1        0   \n",
       "5        0        0        0    ...           0        0        0        1   \n",
       "7        0        0        0    ...           0        1        0        0   \n",
       "\n",
       "   qe_i9_f  qe_i10_a  qe_i10_b  qe_i10_c  qe_i10_d  qe_i10_e  \n",
       "0        0         1         0         0         0         0  \n",
       "1        0         0         0         0         1         0  \n",
       "4        0         0         0         0         0         1  \n",
       "5        0         0         0         0         0         1  \n",
       "7        0         1         0         0         0         0  \n",
       "\n",
       "[5 rows x 62 columns]"
      ]
     },
     "execution_count": 13,
     "metadata": {},
     "output_type": "execute_result"
    }
   ],
   "source": [
    "bd = pd.get_dummies(bd)\n",
    "bd.head()"
   ]
  },
  {
   "cell_type": "code",
   "execution_count": 14,
   "metadata": {},
   "outputs": [
    {
     "data": {
      "text/plain": [
       "Index(['nt_ger', 'nu_idade', 'tp_sexo_F', 'tp_sexo_M', 'qe_i1_a', 'qe_i1_b',\n",
       "       'qe_i1_c', 'qe_i1_d', 'qe_i1_e', 'qe_i2_a', 'qe_i2_b', 'qe_i2_c',\n",
       "       'qe_i2_d', 'qe_i2_e', 'qe_i3_a', 'qe_i3_b', 'qe_i3_c', 'qe_i4_a',\n",
       "       'qe_i4_b', 'qe_i4_c', 'qe_i4_d', 'qe_i4_e', 'qe_i4_f', 'qe_i5_a',\n",
       "       'qe_i5_b', 'qe_i5_c', 'qe_i5_d', 'qe_i5_e', 'qe_i5_f', 'qe_i6_a',\n",
       "       'qe_i6_b', 'qe_i6_c', 'qe_i6_d', 'qe_i6_e', 'qe_i6_f', 'qe_i7_a',\n",
       "       'qe_i7_b', 'qe_i7_c', 'qe_i7_d', 'qe_i7_e', 'qe_i7_f', 'qe_i7_g',\n",
       "       'qe_i7_h', 'qe_i8_a', 'qe_i8_b', 'qe_i8_c', 'qe_i8_d', 'qe_i8_e',\n",
       "       'qe_i8_f', 'qe_i8_g', 'qe_i9_a', 'qe_i9_b', 'qe_i9_c', 'qe_i9_d',\n",
       "       'qe_i9_e', 'qe_i9_f', 'qe_i10_a', 'qe_i10_b', 'qe_i10_c', 'qe_i10_d',\n",
       "       'qe_i10_e'],\n",
       "      dtype='object')"
      ]
     },
     "execution_count": 14,
     "metadata": {},
     "output_type": "execute_result"
    }
   ],
   "source": [
    "bd = bd.drop(columns=\"tp_sexo_N\")\n",
    "bd.columns"
   ]
  },
  {
   "cell_type": "code",
   "execution_count": 21,
   "metadata": {},
   "outputs": [],
   "source": [
    "# Define X e y\n",
    "y = bd.nt_ger\n",
    "X = bd.drop(columns=\"nt_ger\")\n",
    "\n",
    "X_train, X_test, y_train, y_test = train_test_split(X, y, test_size=.2,\n",
    "                                                   random_state=123)"
   ]
  },
  {
   "cell_type": "code",
   "execution_count": 18,
   "metadata": {},
   "outputs": [],
   "source": [
    "from sklearn.linear_model import RidgeCV"
   ]
  },
  {
   "cell_type": "code",
   "execution_count": 19,
   "metadata": {},
   "outputs": [],
   "source": [
    "rid = RidgeCV(alphas=np.linspace(0.1, 100, num=1000), fit_intercept=True)"
   ]
  },
  {
   "cell_type": "code",
   "execution_count": 22,
   "metadata": {},
   "outputs": [
    {
     "data": {
      "text/plain": [
       "RidgeCV(alphas=array([  0.1,   0.2, ...,  99.9, 100. ]), cv=None,\n",
       "    fit_intercept=True, gcv_mode=None, normalize=False, scoring=None,\n",
       "    store_cv_values=False)"
      ]
     },
     "execution_count": 22,
     "metadata": {},
     "output_type": "execute_result"
    }
   ],
   "source": [
    "rid.fit(X_train, y_train)"
   ]
  },
  {
   "cell_type": "code",
   "execution_count": 23,
   "metadata": {},
   "outputs": [
    {
     "name": "stdout",
     "output_type": "stream",
     "text": [
      "MSE for Ridge Regression:\n",
      "33317.626072203\n"
     ]
    }
   ],
   "source": [
    "yhat_rid = rid.predict(X_test)\n",
    "print(\"MSE for Ridge Regression:\")\n",
    "print(mean_squared_error(y_test, yhat_rid))"
   ]
  },
  {
   "cell_type": "code",
   "execution_count": 28,
   "metadata": {},
   "outputs": [
    {
     "data": {
      "text/plain": [
       "10"
      ]
     },
     "execution_count": 28,
     "metadata": {},
     "output_type": "execute_result"
    }
   ],
   "source": [
    "# Tentando com 10-Fold cross validation\n",
    "k = 10\n",
    "kf = KFold(n_splits=k)\n",
    "kf.get_n_splits(X)"
   ]
  },
  {
   "cell_type": "code",
   "execution_count": 30,
   "metadata": {},
   "outputs": [
    {
     "name": "stdout",
     "output_type": "stream",
     "text": [
      "34319.82380114076\n",
      "31344.87055414003\n",
      "33683.41119738444\n",
      "32874.445446789534\n",
      "33203.19624003633\n",
      "31311.071603150063\n",
      "31261.838398635922\n",
      "34045.00926832168\n",
      "34234.004817076566\n",
      "31830.180390408394\n",
      "Final MSE:\n",
      "32810.78517170837\n"
     ]
    }
   ],
   "source": [
    "mses = []\n",
    "for train, test in kf.split(X):\n",
    "    X = np.array(X)\n",
    "    y = np.array(y)\n",
    "    rid.fit(X[train], y[train])\n",
    "    yhat = rid.predict(X[test])\n",
    "    mses.append(mean_squared_error(y[test], yhat))\n",
    "    print(mean_squared_error(y[test], yhat))\n",
    "    \n",
    "print(\"Final MSE:\")\n",
    "print(np.mean(mses))"
   ]
  },
  {
   "cell_type": "code",
   "execution_count": 31,
   "metadata": {},
   "outputs": [],
   "source": [
    "# Tentando com LASSO\n",
    "from sklearn.linear_model import LassoCV"
   ]
  },
  {
   "cell_type": "code",
   "execution_count": 33,
   "metadata": {},
   "outputs": [
    {
     "name": "stdout",
     "output_type": "stream",
     "text": [
      "MSE Lasso:\n",
      "33205.90107330927\n"
     ]
    }
   ],
   "source": [
    "lasso = LassoCV(n_alphas=1000)\n",
    "lasso.fit(X_train, y_train)\n",
    "yhat_lasso = lasso.predict(X_test)\n",
    "print(\"MSE Lasso:\")\n",
    "print(mean_squared_error(y_test, yhat_lasso))"
   ]
  },
  {
   "cell_type": "code",
   "execution_count": 34,
   "metadata": {},
   "outputs": [
    {
     "data": {
      "text/plain": [
       "0.4735247568870609"
      ]
     },
     "execution_count": 34,
     "metadata": {},
     "output_type": "execute_result"
    }
   ],
   "source": [
    "lasso.alpha_"
   ]
  },
  {
   "cell_type": "code",
   "execution_count": 35,
   "metadata": {},
   "outputs": [
    {
     "data": {
      "text/plain": [
       "array([ -0.91003432,   4.76412945,  -0.        , -12.40125669,\n",
       "        -0.        ,  10.92550882,  -0.        ,   3.81255471,\n",
       "         7.55109638,   0.        ,  -6.0050402 ,  -0.        ,\n",
       "        -0.        ,  18.7093139 ,  -0.        ,  -0.        ,\n",
       "        -5.47539288,  -2.7996338 ,   0.        ,  -0.        ,\n",
       "         4.06318656,  17.34750036, -21.98321857,  -0.        ,\n",
       "         0.        ,   3.56090548,   1.90937366,  -0.        ,\n",
       "         0.        ,  -4.27530771,  -0.        ,  22.99241133,\n",
       "        -0.        ,  -0.        ,  10.09563014,   6.34073875,\n",
       "        15.46629632,   0.        ,  -9.05043201, -17.29803568,\n",
       "        -0.        ,  -2.81564792, -35.29579852, -11.38960928,\n",
       "       -10.94278132,  13.84710319,   6.8673601 ,  39.78643417,\n",
       "        -0.        ,   0.        ,  -1.35526817,   7.19128834,\n",
       "         0.54474812,  -0.65156034,  -0.        ,  22.4346087 ,\n",
       "        -1.40968198,  -4.86524191,  15.70803449,   0.        ])"
      ]
     },
     "execution_count": 35,
     "metadata": {},
     "output_type": "execute_result"
    }
   ],
   "source": [
    "lasso.coef_"
   ]
  },
  {
   "cell_type": "code",
   "execution_count": 36,
   "metadata": {},
   "outputs": [
    {
     "name": "stdout",
     "output_type": "stream",
     "text": [
      "34349.08190658686\n",
      "31259.358735905596\n",
      "33920.89708151294\n",
      "32938.36911356526\n",
      "33161.37561812943\n",
      "31381.467436747018\n",
      "31347.822277496525\n",
      "33968.10871137781\n",
      "34207.28853468397\n",
      "31690.77548165027\n",
      "Final MSE LASSO:\n",
      "32822.45448976557\n"
     ]
    }
   ],
   "source": [
    "mses = []\n",
    "for train, test in kf.split(X):\n",
    "    X = np.array(X)\n",
    "    y = np.array(y)\n",
    "    lasso.fit(X[train], y[train])\n",
    "    yhat = lasso.predict(X[test])\n",
    "    mses.append(mean_squared_error(y[test], yhat))\n",
    "    print(mean_squared_error(y[test], yhat))\n",
    "    \n",
    "print(\"Final MSE LASSO:\")\n",
    "print(np.mean(mses))"
   ]
  }
 ],
 "metadata": {
  "kernelspec": {
   "display_name": "Python 3",
   "language": "python",
   "name": "python3"
  },
  "language_info": {
   "codemirror_mode": {
    "name": "ipython",
    "version": 3
   },
   "file_extension": ".py",
   "mimetype": "text/x-python",
   "name": "python",
   "nbconvert_exporter": "python",
   "pygments_lexer": "ipython3",
   "version": "3.6.4"
  }
 },
 "nbformat": 4,
 "nbformat_minor": 2
}
